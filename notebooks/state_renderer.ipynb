{
 "cells": [
  {
   "cell_type": "code",
   "execution_count": 1,
   "metadata": {},
   "outputs": [],
   "source": [
    "import yaml\n",
    "import salt.client\n",
    "import salt.config                                                      \n",
    "opts = salt.config.minion_config('/etc/salt/minion')\n",
    "opts['file_client'] = 'local'"
   ]
  },
  {
   "cell_type": "code",
   "execution_count": 2,
   "metadata": {},
   "outputs": [],
   "source": [
    "opts['grains'] = yaml.safe_load('''\n",
    "host: minion\n",
    "id: minion.domain.net\n",
    "domain: domain.net\n",
    "fqdn: minion.domain.net\n",
    "fqdn_ip4:\n",
    "  - 192.168.1.3\n",
    "saltversion: 2016.3.3\n",
    "os: Debian\n",
    "os_family: Debian\n",
    "osarch: amd64\n",
    "oscodename: jessie\n",
    "osfinger: Debian-8\n",
    "osfullname: Debian\n",
    "osmajorrelease: '8'\n",
    "osrelease: '8.2'\n",
    "biosreleasedate: 01/01/2011\n",
    "biosversion: Bochs\n",
    "cpuarch: x86_64\n",
    "ip4_nameservers:\n",
    "  - 8.8.8.8\n",
    "  - 8.8.4.4\n",
    "ip4_interfaces:\n",
    "  eth0:\n",
    "    - 192.168.1.3\n",
    "kernel: Linux\n",
    "localhost: minion.domain.net\n",
    "mem_total: 2010\n",
    "num_cpus: 2\n",
    "''')"
   ]
  },
  {
   "cell_type": "code",
   "execution_count": 3,
   "metadata": {},
   "outputs": [],
   "source": [
    "opts['pillar'] = yaml.safe_load('''\n",
    "secret: 1A2B3C4D5E6F\n",
    "ns:\n",
    "  - 12.34.45.1\n",
    "  - 12.34.45.2\n",
    "''')"
   ]
  },
  {
   "cell_type": "code",
   "execution_count": 4,
   "metadata": {},
   "outputs": [],
   "source": [
    "state = '''\n",
    "{% set secret = pillar['secret'] %}\n",
    "{% set domain = grains['domain'] %}\n",
    "{% set osfinger = salt['grains.get']('osfinger') %}\n",
    "{% set nameservers = salt['pillar.get']('ns') %}\n",
    "\n",
    "{% if domain == 'domain.net' %}\n",
    "set secret:\n",
    "  file.managed:\n",
    "    - name: /etc/secret\n",
    "    - source: salt://state/secret\n",
    "    - template: jinja\n",
    "    - context:\n",
    "        secret: {{ secret }}\n",
    "{% endif %}\n",
    "\n",
    "eth0:\n",
    "  network.managed:\n",
    "    - dns:\n",
    "        {% for ip in nameservers %}\n",
    "      - {{ ip }}\n",
    "        {% endfor %}\n",
    "'''"
   ]
  },
  {
   "cell_type": "code",
   "execution_count": 5,
   "metadata": {},
   "outputs": [],
   "source": [
    "caller = salt.client.Caller(mopts=opts)"
   ]
  },
  {
   "cell_type": "code",
   "execution_count": 6,
   "metadata": {},
   "outputs": [
    {
     "name": "stdout",
     "output_type": "stream",
     "text": [
      "eth0:\n",
      "  network.managed:\n",
      "    - dns:\n",
      "        \n",
      "      - 12.34.45.1\n",
      "        \n",
      "      - 12.34.45.2\n"
     ]
    }
   ],
   "source": [
    "print(caller.cmd('slsutil.renderer', string=state, default_renderer='jinja').strip())"
   ]
  },
  {
   "cell_type": "code",
   "execution_count": null,
   "metadata": {},
   "outputs": [],
   "source": []
  }
 ],
 "metadata": {
  "kernelspec": {
   "display_name": "Python 3",
   "language": "python",
   "name": "python3"
  },
  "language_info": {
   "codemirror_mode": {
    "name": "ipython",
    "version": 3
   },
   "file_extension": ".py",
   "mimetype": "text/x-python",
   "name": "python",
   "nbconvert_exporter": "python",
   "pygments_lexer": "ipython3",
   "version": "3.6.4"
  }
 },
 "nbformat": 4,
 "nbformat_minor": 2
}
